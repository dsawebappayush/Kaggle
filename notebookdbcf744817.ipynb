{
 "cells": [
  {
   "cell_type": "markdown",
   "id": "1141d453",
   "metadata": {
    "id": "4NMjWL56RH5p",
    "papermill": {
     "duration": 0.005743,
     "end_time": "2025-02-28T08:39:47.236164",
     "exception": false,
     "start_time": "2025-02-28T08:39:47.230421",
     "status": "completed"
    },
    "tags": []
   },
   "source": [
    "## 📝 **Assignment Instructions** 📚  \n",
    "\n",
    "### 1️⃣ **Data Loading** (🔟 points)  \n",
    "- ✅ Complete the `load_mnist_data` function  \n",
    "- 🔄 Properly **normalize** and **transform** the data  \n",
    "\n",
    "### 2️⃣ **Custom Dropout** (2️⃣0️⃣ points)  \n",
    "- 🔧 Implement **forward** and **backward** passes  \n",
    "- 🎯 Match **PyTorch’s** `nn.Dropout` behavior  \n",
    "- 📏 Ensure **proper scaling** during training  \n",
    "\n",
    "### 3️⃣ **Custom BatchNorm, CustomRelu, CustomMaxPooling** (3️⃣0️⃣ points)  \n",
    "- 🔍 Implement **forward pass** with proper normalization  \n",
    "- 📊 Track **running statistics** accurately  \n",
    "- 🔄 Handle **both training and evaluation** modes  \n",
    "\n",
    "### 4️⃣ **CNN Architecture** (2️⃣0️⃣ points)  \n",
    "- 🛠️ Implement Your Own **Custom VGG16 Model**  \n",
    "- 🔢 Use appropriate **layer sizes and activations**  \n",
    "- 📐 Properly handle **input/output dimensions**  \n",
    "\n",
    "### 5️⃣ **Training Implementation** (2️⃣0️⃣ points)  \n",
    "- 🚀 Complete **training and evaluation loops**  \n",
    "- 📈 Implement **logging and visualization**    \n",
    "\n",
    "---\n",
    "\n",
    "### ⭐ **Bonus**  \n",
    "- 📦 **Data Augmentation**  \n",
    "- 🔄 **Learning Rate Scheduling**  \n",
    "\n",
    "\n",
    "\n"
   ]
  },
  {
   "cell_type": "markdown",
   "id": "b9f69d8d",
   "metadata": {
    "id": "hSkOEXsfjwWw",
    "papermill": {
     "duration": 0.006131,
     "end_time": "2025-02-28T08:39:47.247430",
     "exception": false,
     "start_time": "2025-02-28T08:39:47.241299",
     "status": "completed"
    },
    "tags": []
   },
   "source": [
    "### 📝 **Report Guidelines: What to Include**\n",
    "\n",
    "1️⃣ **Introduction** 📖  \n",
    "   - Briefly introduce the goal of this assignment.  \n",
    "   - Explain the importance of building custom components (e.g., CustomBatchNorm, CustomReLU, CustomMaxPooling) in deep learning.  \n",
    "   - Mention that this exercise will help you understand how these components work internally.\n",
    "\n",
    "---\n",
    "\n",
    "2️⃣ **Implementation Details** 🛠️  \n",
    "   For each component, explain:  \n",
    "   \n",
    "   - Describe how you implemented `CustomBatchNorm2d`, `CustomReLU`, and `CustomMaxPooling2d`.  \n",
    "   - Highlight any key challenges and how you overcame them.  \n",
    "   - Explain the architecture of your VGG16 model.  \n",
    "   - Describe how you used custom components in the model's convolutional blocks.  \n",
    "   - Discuss your choice of activation functions, kernel sizes, and layer design.\n",
    "\n",
    "---\n",
    "\n",
    "3️⃣ **Training Strategy and Results** 📈  \n",
    "   - Describe your training strategy (e.g., hyperparameters, optimizer, learning rate schedule).  \n",
    "   - Present training and testing accuracy/loss curves.  \n",
    "   - Report the final test accuracy and compare it with the baseline accuracy using PyTorch's built-in components.  \n",
    "   - Discuss how your custom components affected the model's performance.  \n",
    "\n",
    "---\n",
    "\n",
    "4️⃣ **Conclusion and Future Work** 🔮  \n",
    "   - Summarize your key findings and insights.  \n",
    "   - Mention any areas where you would like to improve your implementation (e.g., handling edge cases in `CustomMaxPooling`).  \n",
    "\n",
    "---\n",
    "\n",
    "### 📤 **Submission Requirements** 📤  \n",
    "1️⃣ **Notebook** 📒: Complete the notebook with all implementations of `CustomBatchNorm2d`, `CustomReLU`, `CustomMaxPooling2d`, and your custom VGG16 model.  \n",
    "2️⃣ **Training Visualizations** 📈: Include accuracy and loss curves for both training and validation.  \n",
    "3️⃣ **Report** 📝: A concise report explaining your implementation choices, challenges faced, and comparisons with PyTorch's built-in components.  \n",
    "4️⃣ **PDF Submission** 📄:  \n",
    "   - Convert your report into a **PDF format**.  \n",
    "   - Ensure that the PDF includes all sections: Introduction, Implementation Details, Training Results and Conclusion.  \n",
    "   - Include relevant code snippets and result plots in the PDF.\n",
    "\n",
    "---\n",
    "\n",
    "### 📎 **How to Submit:**  \n",
    "- Submit a **single ZIP file** containing:  \n",
    "  - 📁 **Notebook (`.ipynb`)**  \n",
    "  - 📄 **Report (`.pdf`)**  \n",
    "  - 📊 **Training logs and plots (`.png`/`.pdf`)** if applicable.  \n",
    "- **Filename format:** `Assignment_<YourName_RollNumber>.zip`  \n",
    "\n"
   ]
  },
  {
   "cell_type": "code",
   "execution_count": 1,
   "id": "cd80568e",
   "metadata": {
    "execution": {
     "iopub.execute_input": "2025-02-28T08:39:47.257874Z",
     "iopub.status.busy": "2025-02-28T08:39:47.257665Z",
     "iopub.status.idle": "2025-02-28T08:39:54.829747Z",
     "shell.execute_reply": "2025-02-28T08:39:54.829060Z"
    },
    "id": "VKu6QwMCRTdh",
    "papermill": {
     "duration": 7.57907,
     "end_time": "2025-02-28T08:39:54.831311",
     "exception": false,
     "start_time": "2025-02-28T08:39:47.252241",
     "status": "completed"
    },
    "tags": []
   },
   "outputs": [],
   "source": [
    "# 🚀 **Importing Helper Modules**\n",
    "\n",
    "import torch  # 🧠 Core PyTorch library for tensor operations and neural networks\n",
    "import torch.nn as nn  # 🏗️ Neural network components (layers, loss functions)\n",
    "import torch.optim as optim  # ⚙️ Optimization algorithms (SGD, Adam, etc.)\n",
    "import torchvision  # 🎨 Computer vision utilities and datasets\n",
    "import torchvision.transforms as transforms  # 🖼️ Data transformations (normalization, augmentation)\n",
    "from torch.utils.data import DataLoader  # 🚚 For loading and batching data\n",
    "import matplotlib.pyplot as plt  # 📊 Visualization for losses and accuracies"
   ]
  },
  {
   "cell_type": "markdown",
   "id": "be88676c",
   "metadata": {
    "id": "vHFtYbZ4Rybb",
    "papermill": {
     "duration": 0.004821,
     "end_time": "2025-02-28T08:39:54.841479",
     "exception": false,
     "start_time": "2025-02-28T08:39:54.836658",
     "status": "completed"
    },
    "tags": []
   },
   "source": [
    "## 🔢 **MNIST Dataset: The Classic Benchmark** 🖋️✨  \n",
    "\n",
    "**MNIST** is a popular dataset of **70,000 handwritten digits** (0-9) 📝, widely used for training and testing image processing systems.  \n",
    "\n",
    "### 📊 **Dataset Overview**  \n",
    "- 🖼️ **60,000 Training Images**  \n",
    "- 🖼️ **10,000 Test Images**  \n",
    "- 🔲 **Image Size:** 28x28 pixels (grayscale)  \n",
    "- 🔍 **Digits:** Size-normalized and centered  \n",
    "\n",
    "### 🌐 **Want to Learn More?**  \n",
    "Check out the full details here: [📖 Wikipedia - MNIST Database](https://en.wikipedia.org/wiki/MNIST_database)  \n"
   ]
  },
  {
   "cell_type": "code",
   "execution_count": 2,
   "id": "3e1fd980",
   "metadata": {
    "execution": {
     "iopub.execute_input": "2025-02-28T08:39:54.852101Z",
     "iopub.status.busy": "2025-02-28T08:39:54.851790Z",
     "iopub.status.idle": "2025-02-28T08:40:14.049890Z",
     "shell.execute_reply": "2025-02-28T08:40:14.048870Z"
    },
    "papermill": {
     "duration": 19.205081,
     "end_time": "2025-02-28T08:40:14.051377",
     "exception": false,
     "start_time": "2025-02-28T08:39:54.846296",
     "status": "completed"
    },
    "tags": []
   },
   "outputs": [
    {
     "name": "stdout",
     "output_type": "stream",
     "text": [
      "--2025-02-28 08:39:54--  http://www.di.ens.fr/~lelarge/MNIST.tar.gz\r\n",
      "Resolving www.di.ens.fr (www.di.ens.fr)... 129.199.99.14\r\n",
      "Connecting to www.di.ens.fr (www.di.ens.fr)|129.199.99.14|:80... connected.\r\n",
      "HTTP request sent, awaiting response... 302 Found\r\n",
      "Location: https://www.di.ens.fr/~lelarge/MNIST.tar.gz [following]\r\n",
      "--2025-02-28 08:39:55--  https://www.di.ens.fr/~lelarge/MNIST.tar.gz\r\n",
      "Connecting to www.di.ens.fr (www.di.ens.fr)|129.199.99.14|:443... connected.\r\n",
      "HTTP request sent, awaiting response... 200 OK\r\n",
      "Length: unspecified [application/x-gzip]\r\n",
      "Saving to: ‘MNIST.tar.gz’\r\n",
      "\r\n",
      "MNIST.tar.gz            [         <=>        ]  33.20M  6.77MB/s    in 6.1s    \r\n",
      "\r\n",
      "2025-02-28 08:40:02 (5.47 MB/s) - ‘MNIST.tar.gz’ saved [34813078]\r\n",
      "\r\n",
      "MNIST/\r\n",
      "MNIST/raw/\r\n",
      "MNIST/raw/train-labels-idx1-ubyte\r\n",
      "MNIST/raw/t10k-labels-idx1-ubyte.gz\r\n",
      "MNIST/raw/t10k-labels-idx1-ubyte\r\n",
      "MNIST/raw/t10k-images-idx3-ubyte.gz\r\n",
      "MNIST/raw/train-images-idx3-ubyte\r\n",
      "MNIST/raw/train-labels-idx1-ubyte.gz\r\n",
      "MNIST/raw/t10k-images-idx3-ubyte\r\n",
      "MNIST/raw/train-images-idx3-ubyte.gz\r\n",
      "MNIST/processed/\r\n",
      "MNIST/processed/training.pt\r\n",
      "MNIST/processed/test.pt\r\n",
      "Downloading http://yann.lecun.com/exdb/mnist/train-images-idx3-ubyte.gz\n",
      "Failed to download (trying next):\n",
      "HTTP Error 404: Not Found\n",
      "\n",
      "Downloading https://ossci-datasets.s3.amazonaws.com/mnist/train-images-idx3-ubyte.gz\n",
      "Downloading https://ossci-datasets.s3.amazonaws.com/mnist/train-images-idx3-ubyte.gz to ./data/MNIST/raw/train-images-idx3-ubyte.gz\n"
     ]
    },
    {
     "name": "stderr",
     "output_type": "stream",
     "text": [
      "100%|██████████| 9.91M/9.91M [00:01<00:00, 5.73MB/s]\n"
     ]
    },
    {
     "name": "stdout",
     "output_type": "stream",
     "text": [
      "Extracting ./data/MNIST/raw/train-images-idx3-ubyte.gz to ./data/MNIST/raw\n",
      "\n",
      "Downloading http://yann.lecun.com/exdb/mnist/train-labels-idx1-ubyte.gz\n",
      "Failed to download (trying next):\n",
      "HTTP Error 404: Not Found\n",
      "\n",
      "Downloading https://ossci-datasets.s3.amazonaws.com/mnist/train-labels-idx1-ubyte.gz\n",
      "Downloading https://ossci-datasets.s3.amazonaws.com/mnist/train-labels-idx1-ubyte.gz to ./data/MNIST/raw/train-labels-idx1-ubyte.gz\n"
     ]
    },
    {
     "name": "stderr",
     "output_type": "stream",
     "text": [
      "100%|██████████| 28.9k/28.9k [00:00<00:00, 152kB/s]\n"
     ]
    },
    {
     "name": "stdout",
     "output_type": "stream",
     "text": [
      "Extracting ./data/MNIST/raw/train-labels-idx1-ubyte.gz to ./data/MNIST/raw\n",
      "\n",
      "Downloading http://yann.lecun.com/exdb/mnist/t10k-images-idx3-ubyte.gz\n",
      "Failed to download (trying next):\n",
      "HTTP Error 404: Not Found\n",
      "\n",
      "Downloading https://ossci-datasets.s3.amazonaws.com/mnist/t10k-images-idx3-ubyte.gz\n",
      "Downloading https://ossci-datasets.s3.amazonaws.com/mnist/t10k-images-idx3-ubyte.gz to ./data/MNIST/raw/t10k-images-idx3-ubyte.gz\n"
     ]
    },
    {
     "name": "stderr",
     "output_type": "stream",
     "text": [
      "100%|██████████| 1.65M/1.65M [00:01<00:00, 1.43MB/s]\n"
     ]
    },
    {
     "name": "stdout",
     "output_type": "stream",
     "text": [
      "Extracting ./data/MNIST/raw/t10k-images-idx3-ubyte.gz to ./data/MNIST/raw\n",
      "\n",
      "Downloading http://yann.lecun.com/exdb/mnist/t10k-labels-idx1-ubyte.gz\n",
      "Failed to download (trying next):\n",
      "HTTP Error 404: Not Found\n",
      "\n",
      "Downloading https://ossci-datasets.s3.amazonaws.com/mnist/t10k-labels-idx1-ubyte.gz\n",
      "Downloading https://ossci-datasets.s3.amazonaws.com/mnist/t10k-labels-idx1-ubyte.gz to ./data/MNIST/raw/t10k-labels-idx1-ubyte.gz\n"
     ]
    },
    {
     "name": "stderr",
     "output_type": "stream",
     "text": [
      "100%|██████████| 4.54k/4.54k [00:00<00:00, 12.5MB/s]"
     ]
    },
    {
     "name": "stdout",
     "output_type": "stream",
     "text": [
      "Extracting ./data/MNIST/raw/t10k-labels-idx1-ubyte.gz to ./data/MNIST/raw\n",
      "\n"
     ]
    },
    {
     "name": "stderr",
     "output_type": "stream",
     "text": [
      "\n"
     ]
    },
    {
     "data": {
      "text/plain": [
       "Dataset MNIST\n",
       "    Number of datapoints: 60000\n",
       "    Root location: ./data\n",
       "    Split: Train"
      ]
     },
     "execution_count": 2,
     "metadata": {},
     "output_type": "execute_result"
    }
   ],
   "source": [
    "!wget www.di.ens.fr/~lelarge/MNIST.tar.gz\n",
    "!tar -zxvf MNIST.tar.gz\n",
    "\n",
    "import torchvision\n",
    "import torchvision.transforms as transforms\n",
    "root_dir = './data'\n",
    "torchvision.datasets.MNIST(root=root_dir,download=True)"
   ]
  },
  {
   "cell_type": "code",
   "execution_count": 3,
   "id": "8d6193ee",
   "metadata": {
    "execution": {
     "iopub.execute_input": "2025-02-28T08:40:14.069721Z",
     "iopub.status.busy": "2025-02-28T08:40:14.069444Z",
     "iopub.status.idle": "2025-02-28T08:40:14.075463Z",
     "shell.execute_reply": "2025-02-28T08:40:14.074656Z"
    },
    "id": "CwfbcGAeRY0B",
    "papermill": {
     "duration": 0.016276,
     "end_time": "2025-02-28T08:40:14.076643",
     "exception": false,
     "start_time": "2025-02-28T08:40:14.060367",
     "status": "completed"
    },
    "tags": []
   },
   "outputs": [],
   "source": [
    "import torch\n",
    "import torchvision\n",
    "import torchvision.transforms as transforms\n",
    "from torch.utils.data import DataLoader, Subset\n",
    "import random\n",
    "\n",
    "def load_mnist_data(batch_size=64, sample_percent=1):\n",
    "    \"\"\"\n",
    "    📦 **Load and preprocess the MNIST dataset.**\n",
    "    📜 **Returns:** train_loader and test_loader 🎯\n",
    "    \"\"\"\n",
    "    transform = transforms.Compose([\n",
    "        transforms.ToTensor(),  # 🔄 Convert images to tensors 📊\n",
    "        transforms.Normalize((0.1307,), (0.3081,))  # ⚖️ Normalize with mean and std for MNIST dataset\n",
    "    ])\n",
    "\n",
    "    # 🛠️ **TODO: Load MNIST training and test datasets** 🖼️\n",
    "    # 📌 Hint: Use `torchvision.datasets.MNIST` for dataset loading 📥\n",
    "    #          Use `torch.utils.data.DataLoader` for creating data loaders 🔄\n",
    "\n",
    "    train_dataset = torchvision.datasets.MNIST(root='./data', train=True, transform=transform, download=True)\n",
    "    test_dataset = torchvision.datasets.MNIST(root='./data', train=False, transform=transform, download=True)\n",
    "\n",
    "\n",
    "    num_train = len(train_dataset)\n",
    "    indices = list(range(num_train))\n",
    "    split = int(sample_percent * num_train)\n",
    "    random.shuffle(indices)\n",
    "\n",
    "    train_indices = indices[:split]\n",
    "    train_subset = Subset(train_dataset, train_indices)\n",
    "\n",
    "    train_loader = DataLoader(train_subset, batch_size=batch_size, shuffle=True)\n",
    "    test_loader = DataLoader(test_dataset, batch_size=batch_size, shuffle=False)\n",
    "\n",
    "    return train_loader, test_loader  # 🚚 Return the loaders 📦\n"
   ]
  },
  {
   "cell_type": "markdown",
   "id": "5ee51776",
   "metadata": {
    "id": "eEKhzgBHTa8n",
    "papermill": {
     "duration": 0.008124,
     "end_time": "2025-02-28T08:40:14.093269",
     "exception": false,
     "start_time": "2025-02-28T08:40:14.085145",
     "status": "completed"
    },
    "tags": []
   },
   "source": [
    "## 🎯 **Understanding Dropout in Deep Learning** 🚀  \n",
    "\n",
    "**Dropout** is a regularization technique 🛡️ used to prevent **overfitting** in deep neural networks by randomly ignoring or **\"dropping out\"** some layer outputs during training.  \n",
    "\n",
    "### 🔍 **Where is Dropout Applied?**  \n",
    "Dropout can be implemented in different types of layers:  \n",
    "- 💡 **Dense (Fully Connected) Layers**  \n",
    "- 🌀 **Convolutional Layers**  \n",
    "- 🔁 **Recurrent Layers**  \n",
    "> 🚫 It is **NOT applied** to the output layer!  \n",
    "\n",
    "### 🎲 **How Dropout Works**  \n",
    "The **dropout probability** 🔢 determines how likely it is for a neuron to be dropped out:  \n",
    "- 🔹 **Input Layer:** Lower dropout probability  \n",
    "- 🔹 **Hidden Layers:** Higher dropout probability  \n",
    "\n",
    "By doing so, we ensure that no single neuron becomes **too specialized** or overly dependent on specific features in the training data. This helps the network generalize better to new, unseen data. 🎯✨  \n"
   ]
  },
  {
   "cell_type": "code",
   "execution_count": 4,
   "id": "bc94533a",
   "metadata": {
    "execution": {
     "iopub.execute_input": "2025-02-28T08:40:14.110515Z",
     "iopub.status.busy": "2025-02-28T08:40:14.110283Z",
     "iopub.status.idle": "2025-02-28T08:40:14.114849Z",
     "shell.execute_reply": "2025-02-28T08:40:14.114029Z"
    },
    "id": "lzh30yJGRcW0",
    "papermill": {
     "duration": 0.014602,
     "end_time": "2025-02-28T08:40:14.116141",
     "exception": false,
     "start_time": "2025-02-28T08:40:14.101539",
     "status": "completed"
    },
    "tags": []
   },
   "outputs": [],
   "source": [
    "# 🚀 **Part 2: Custom Dropout Implementation**\n",
    "\n",
    "class CustomDropout(nn.Module):\n",
    "    \"\"\"\n",
    "    🛠️ TODO: Implement custom dropout layer 🎯\n",
    "\n",
    "    📜 **Requirements:**\n",
    "    1️⃣ Initialize with **dropout probability** `p` 🎲\n",
    "    2️⃣ Implement **forward pass** with proper scaling 🔄\n",
    "    3️⃣ **Only drop** units during **training** (`self.training` flag) 🏋️‍♂️\n",
    "    \"\"\"\n",
    "\n",
    "    def __init__(self, p=0.5,is_input_layer=False):\n",
    "        super(CustomDropout, self).__init__()\n",
    "        # 🎲 Store dropout probability (p between 0 and 1)\n",
    "        self.p = p*0.4 if is_input_layer else p\n",
    "        self.is_input_layer = is_input_layer  # 🚧 Initialization complete! Time to implement the logic 🛠️\n",
    "\n",
    "    def forward(self, x):\n",
    "        # 🔄 **TODO: Implement forward pass**\n",
    "        if self.training: # 🏋️‍♂️ Drop units only during training mode\n",
    "            mask=torch.bernoulli(torch.ones_like(x)*(1-self.p))  # 🚧 Work in progress! Apply dropout logic 🧪\n",
    "            return x*mask/(1-self.p)\n",
    "        return x  # 🔄 Return the (possibly dropped) output ✨\n"
   ]
  },
  {
   "cell_type": "markdown",
   "id": "ac2fcfe4",
   "metadata": {
    "id": "ZlosZCG9UdJW",
    "papermill": {
     "duration": 0.008189,
     "end_time": "2025-02-28T08:40:14.132893",
     "exception": false,
     "start_time": "2025-02-28T08:40:14.124704",
     "status": "completed"
    },
    "tags": []
   },
   "source": [
    "## 🔄 **What is BatchNorm2d?** 🧪  \n",
    "\n",
    "**BatchNorm2d** (Batch Normalization for 2D inputs) is a layer used in deep learning to **normalize** the inputs across a batch during training. It helps your neural network train faster and generalize better! 🚀  \n",
    "\n",
    "### 🌟 **Why Use BatchNorm2d?**  \n",
    "- ⚖️ **Normalizes activations** to reduce internal covariate shift  \n",
    "- 🚀 **Accelerates training**  \n",
    "- 🛡️ **Acts as a regularizer**, reducing the need for dropout  \n",
    "\n",
    "---\n",
    "\n",
    "### 🏗️ **How It Works:**  \n",
    "1️⃣ **Compute the Mean & Variance** 📊 for each feature map across the batch  \n",
    "2️⃣ **Normalize the activations**: Subtract the mean and divide by the standard deviation ⚙️  \n",
    "3️⃣ **Learnable Parameters** 📈: Scale (γ) and Shift (β) to allow flexibility  \n",
    "   \\- **γ (Gamma)** controls the scale 📏  \n",
    "   \\- **β (Beta)** controls the shift ↕️  \n",
    "\n",
    "---\n",
    "\n",
    "### 🖼️ **Where is BatchNorm2d Used?**  \n",
    "- 📦 **Convolutional Neural Networks (CNNs)** after convolution layers  \n",
    "- 🛠️ Helps stabilize training and improve accuracy 🎯  \n"
   ]
  },
  {
   "cell_type": "code",
   "execution_count": 5,
   "id": "b25a61aa",
   "metadata": {
    "execution": {
     "iopub.execute_input": "2025-02-28T08:40:14.150744Z",
     "iopub.status.busy": "2025-02-28T08:40:14.150471Z",
     "iopub.status.idle": "2025-02-28T08:40:14.157231Z",
     "shell.execute_reply": "2025-02-28T08:40:14.156586Z"
    },
    "id": "7EY35E-ARfwn",
    "papermill": {
     "duration": 0.016791,
     "end_time": "2025-02-28T08:40:14.158300",
     "exception": false,
     "start_time": "2025-02-28T08:40:14.141509",
     "status": "completed"
    },
    "tags": []
   },
   "outputs": [],
   "source": [
    "# 🚀 **Part 3: Custom BatchNorm2d Implementation**\n",
    "\n",
    "class CustomBatchNorm2d(nn.Module):\n",
    "    \"\"\"\n",
    "    🛠️ TODO: Implement custom 2D batch normalization 🔄\n",
    "\n",
    "    📜 **Requirements:**\n",
    "    1️⃣ Initialize **running mean**, **variance**, **gamma (scale)**, and **beta (shift)** ⚖️\n",
    "    2️⃣ Implement **forward pass** with proper normalization ✨\n",
    "    3️⃣ Track **running statistics** during training 📊\n",
    "    \"\"\"\n",
    "\n",
    "    def __init__(self, num_features, eps=1e-5, momentum=0.1):\n",
    "        super(CustomBatchNorm2d, self).__init__()\n",
    "        # 🛠️ **TODO: Initialize parameters and buffers**\n",
    "        self.num_features=num_features  # 🚧 Work in progress 🚀\n",
    "        self.eps=eps\n",
    "        self.momentum=momentum\n",
    "        self.gamma = nn.Parameter(torch.ones(num_features))\n",
    "        self.beta = nn.Parameter(torch.zeros(num_features))\n",
    "        self.register_buffer('running_mean', torch.zeros(num_features))\n",
    "        self.register_buffer('running_var', torch.ones(num_features))\n",
    "        \n",
    "\n",
    "    def forward(self, x):\n",
    "        # 🔄 **TODO: Implement forward pass for batch normalization**\n",
    "        # Steps:\n",
    "        if self.training:\n",
    "            # 1️⃣ Calculate batch mean and variance 📊\n",
    "            batch_mean = x.mean(dim=(0, 2, 3), keepdim=True)\n",
    "            batch_var = x.var(dim=(0, 2, 3), keepdim=True,unbiased=False)\n",
    "            # 4️⃣ Update running statistics during training 🏋️‍♂️\n",
    "            self.running_mean = (1 - self.momentum) * self.running_mean + self.momentum * batch_mean.squeeze()\n",
    "            self.running_var = (1 - self.momentum) * self.running_var + self.momentum * batch_var.squeeze()\n",
    "        else:\n",
    "            batch_mean = self.running_mean.view(1, self.num_features, 1, 1)\n",
    "            batch_var = self.running_var.view(1, self.num_features, 1, 1)\n",
    "        # 2️⃣ Normalize the input 🎯\n",
    "        out=(x-batch_mean)/torch.sqrt(batch_var+self.eps)\n",
    "        out*=self.gamma.view(1,self.num_features,1,1)\n",
    "        out+=self.beta.view(1,self.num_features,1,1)\n",
    "        return out # 🚧 Normalize and return the output 🧪\n"
   ]
  },
  {
   "cell_type": "markdown",
   "id": "8f76459b",
   "metadata": {
    "id": "cvXwM-45VOrF",
    "papermill": {
     "duration": 0.008021,
     "end_time": "2025-02-28T08:40:14.174733",
     "exception": false,
     "start_time": "2025-02-28T08:40:14.166712",
     "status": "completed"
    },
    "tags": []
   },
   "source": [
    "## ⚡ **What are Activation Functions?** 🔑  \n",
    "\n",
    "**Activation functions** introduce **non-linearity** into neural networks, allowing them to learn and solve **complex tasks**. Without them, the network would only be able to learn **linear relationships** (which isn’t very useful for most problems 😅).  \n",
    "\n",
    "---\n",
    "\n",
    "### 🌟 **Why are Activation Functions Important?**  \n",
    "- 🔄 **Adds non-linearity** to the model  \n",
    "- 🚀 **Enables learning of complex patterns**  \n",
    "- 🛠️ Helps the network make decisions, just like neurons in the brain 🧠  \n",
    "\n",
    "---\n",
    "\n",
    "### 📚 **Common Activation Functions**  \n",
    "\n",
    "#### 1️⃣ **ReLU (Rectified Linear Unit)** ⚡  \n",
    "- **Formula:** `f(x) = max(0, x)`  \n",
    "- **Use:** Most common in hidden layers of CNNs and DNNs  \n",
    "- **Pros:** Simple, fast, reduces vanishing gradient problem  \n",
    "- **Cons:** Can suffer from the **dying ReLU** problem 😵  \n",
    "\n",
    "---\n",
    "\n",
    "#### 2️⃣ **Sigmoid (Logistic Function)** 📈  \n",
    "- **Formula:** `f(x) = 1 / (1 + exp(-x))`  \n",
    "- **Range:** (0, 1)  \n",
    "- **Use:** Good for binary classification tasks 🔢  \n",
    "- **Cons:** Can cause **vanishing gradients** 😬  \n",
    "\n",
    "---\n",
    "\n",
    "#### 3️⃣ **Tanh (Hyperbolic Tangent)** 🔄  \n",
    "- **Formula:** `f(x) = (2 / (1 + exp(-2x))) - 1`  \n",
    "- **Range:** (-1, 1)  \n",
    "- **Use:** Often used in recurrent networks 🔁  \n",
    "- **Pros:** Centered around 0, making optimization easier  \n",
    "- **Cons:** Also prone to vanishing gradients  \n",
    "\n",
    "---\n",
    "\n",
    "#### 4️⃣ **Softmax** 🎯  \n",
    "- **Formula:** Converts logits into probabilities 🔢  \n",
    "- **Range:** (0, 1), sums to 1  \n",
    "- **Use:** Last layer for multi-class classification problems  \n",
    "\n",
    "---\n",
    "\n",
    "### 🎯 **How to Choose an Activation Function?**  \n",
    "- For **hidden layers**, use **ReLU** or its variants (like Leaky ReLU or ELU)  \n",
    "- For **binary classification**, use **Sigmoid**  \n",
    "- For **multi-class classification**, use **Softmax**  \n"
   ]
  },
  {
   "cell_type": "code",
   "execution_count": 6,
   "id": "c44d35be",
   "metadata": {
    "execution": {
     "iopub.execute_input": "2025-02-28T08:40:14.192022Z",
     "iopub.status.busy": "2025-02-28T08:40:14.191824Z",
     "iopub.status.idle": "2025-02-28T08:40:14.195179Z",
     "shell.execute_reply": "2025-02-28T08:40:14.194556Z"
    },
    "id": "Kxs-RWzbhYB9",
    "papermill": {
     "duration": 0.013174,
     "end_time": "2025-02-28T08:40:14.196258",
     "exception": false,
     "start_time": "2025-02-28T08:40:14.183084",
     "status": "completed"
    },
    "tags": []
   },
   "outputs": [],
   "source": [
    "class CustomReLU(nn.Module):\n",
    "    \"\"\"\n",
    "    🛠️ TODO: Implement custom ReLU activation function ✨\n",
    "\n",
    "    📜 **Requirements:**\n",
    "    1️⃣ Apply ReLU manually using tensor operations (avoid using `F.relu`) 🔄\n",
    "    2️⃣ Output should replace all negative values with 0 (ReLU behavior) 🧹\n",
    "    \"\"\"\n",
    "\n",
    "    def forward(self, x):\n",
    "        # 🔄 **TODO: Implement forward pass for ReLU**\n",
    "        # Hint: Use `torch.max` to replace all negative values with 0 🎯\n",
    "        return torch.max(x, torch.zeros_like(x))\n",
    "        # 🚧 Replace and return the ReLU-activated output ⚡\n"
   ]
  },
  {
   "cell_type": "code",
   "execution_count": 7,
   "id": "64ce9af6",
   "metadata": {
    "execution": {
     "iopub.execute_input": "2025-02-28T08:40:14.213359Z",
     "iopub.status.busy": "2025-02-28T08:40:14.213156Z",
     "iopub.status.idle": "2025-02-28T08:40:14.218975Z",
     "shell.execute_reply": "2025-02-28T08:40:14.218361Z"
    },
    "id": "6LOf8k6ohaLf",
    "papermill": {
     "duration": 0.01557,
     "end_time": "2025-02-28T08:40:14.220129",
     "exception": false,
     "start_time": "2025-02-28T08:40:14.204559",
     "status": "completed"
    },
    "tags": []
   },
   "outputs": [],
   "source": [
    "class CustomMaxPooling2d(nn.Module):\n",
    "    \"\"\"\n",
    "    🛠️ TODO: Implement custom 2D MaxPooling layer 🏊\n",
    "\n",
    "    📜 **Requirements:**\n",
    "    1️⃣ Implement a max-pooling operation with a given kernel size and stride 📐\n",
    "    2️⃣ Return the maximum value in each pooling window 🌊\n",
    "    3️⃣ Ensure it supports both training and evaluation modes 🔄\n",
    "    \"\"\"\n",
    "\n",
    "    def __init__(self, kernel_size=2, stride=2):\n",
    "        super(CustomMaxPooling2d, self).__init__()\n",
    "        self.kernel_size = kernel_size\n",
    "        self.stride = stride\n",
    "\n",
    "    def forward(self, x):\n",
    "        batch_size, channels, height, width = x.size()\n",
    "        x_unfolded = x.unfold(2, self.kernel_size, self.stride).unfold(3, self.kernel_size, self.stride)\n",
    "\n",
    "        # Reshape to combine batch and channel dimensions\n",
    "        x_unfolded = x_unfolded.contiguous().view(x.size(0), x.size(1), -1, self.kernel_size * self.kernel_size)\n",
    "        \n",
    "        # Compute max for each window\n",
    "        x_pooled, _ = x_unfolded.max(dim=-1)\n",
    "        x_pooled=x_pooled.view(batch_size,channels,height // self.stride,width//self.stride)\n",
    "        \n",
    "        \n",
    "        return x_pooled\n"
   ]
  },
  {
   "cell_type": "markdown",
   "id": "4f2aa94b",
   "metadata": {
    "id": "Y5eNoFsCo5L_",
    "papermill": {
     "duration": 0.00811,
     "end_time": "2025-02-28T08:40:14.236680",
     "exception": false,
     "start_time": "2025-02-28T08:40:14.228570",
     "status": "completed"
    },
    "tags": []
   },
   "source": [
    "### 🔍 **Hint for MaxPooling with `unfold`**  \n",
    "`torch.nn.functional.unfold` is a powerful tool that helps break an input tensor into sliding windows. Here's how you can use it to implement max pooling:  \n",
    "\n",
    "1️⃣ **Unfold the input tensor:** This will give you a collection of overlapping windows based on the `kernel_size` and `stride`.  \n",
    "```python\n",
    "# Unfold the input tensor into sliding windows\n",
    "x_unfolded = x.unfold(2, self.kernel_size, self.stride).unfold(3, self.kernel_size, self.stride)\n",
    "```\n",
    "\n",
    "2️⃣ **Reshape the unfolded tensor:** Convert it to a shape that makes it easier to compute the maximum.  \n",
    "```python\n",
    "x_unfolded = x_unfolded.contiguous().view(x.size(0), x.size(1), -1, self.kernel_size * self.kernel_size)\n",
    "```\n",
    "\n",
    "3️⃣ **Compute the max along the last dimension:** This dimension represents all elements within each window.  \n",
    "```python\n",
    "x_pooled, _ = x_unfolded.max(dim=-1)\n",
    "```\n",
    "\n",
    "4️⃣ **Reshape back to the correct output size:** This ensures that the output matches what you would expect from a typical max pooling layer.  \n"
   ]
  },
  {
   "cell_type": "markdown",
   "id": "6e6893cf",
   "metadata": {
    "id": "_2DAv2wGi0U6",
    "papermill": {
     "duration": 0.0081,
     "end_time": "2025-02-28T08:40:14.253016",
     "exception": false,
     "start_time": "2025-02-28T08:40:14.244916",
     "status": "completed"
    },
    "tags": []
   },
   "source": [
    "## 📜 **Implement Your Own Custom VGG16 Model**\n",
    "\n",
    "1️⃣ Implement both CustomReLU and CustomMaxPooling2d in the provided classes.\n",
    "\n",
    "2️⃣ Use only tensor operations like torch.max or unfold (no built-in F.relu or nn.MaxPool2d).\n",
    "\n",
    "3️⃣ Integrate them into your CustomVGG16 model.\n",
    "\n",
    "### 🌐 **Want to Learn More?**  \n",
    "Check out the full details here: [📖 VGG16 Paper](https://arxiv.org/pdf/1409.1556)  \n"
   ]
  },
  {
   "cell_type": "code",
   "execution_count": 8,
   "id": "b721d46e",
   "metadata": {
    "execution": {
     "iopub.execute_input": "2025-02-28T08:40:14.270169Z",
     "iopub.status.busy": "2025-02-28T08:40:14.269962Z",
     "iopub.status.idle": "2025-02-28T08:40:14.276336Z",
     "shell.execute_reply": "2025-02-28T08:40:14.275694Z"
    },
    "id": "YQ1qSSQzRigE",
    "papermill": {
     "duration": 0.016084,
     "end_time": "2025-02-28T08:40:14.277376",
     "exception": false,
     "start_time": "2025-02-28T08:40:14.261292",
     "status": "completed"
    },
    "tags": []
   },
   "outputs": [],
   "source": [
    "class CustomVGG16(nn.Module):\n",
    "    \"\"\"\n",
    "    📜 Custom VGG16-like Model with:\n",
    "    1️⃣ Convolutional blocks using nn.Conv2d, CustomBatchNorm2d, and CustomDropout 🔄\n",
    "    2️⃣ ReLU activation ⚡ and MaxPooling 🏊\n",
    "    3️⃣ Fully connected layers at the end\n",
    "    \"\"\"\n",
    "\n",
    "    def __init__(self, num_classes=10):  # num_classes = 10 for MNIST\n",
    "        super(CustomVGG16, self).__init__()\n",
    "        \n",
    "        # Convolutional layers\n",
    "        self.features = nn.Sequential(\n",
    "            # Block 1\n",
    "            nn.Conv2d(1, 64, kernel_size=3, padding=1),\n",
    "            CustomBatchNorm2d(64),\n",
    "            CustomReLU(),\n",
    "            nn.Conv2d(64, 64, kernel_size=3, padding=1),\n",
    "            CustomBatchNorm2d(64),\n",
    "            CustomReLU(),\n",
    "            CustomMaxPooling2d(kernel_size=2, stride=2),\n",
    "            \n",
    "            # Block 2\n",
    "            nn.Conv2d(64, 128, kernel_size=3, padding=1),\n",
    "            CustomBatchNorm2d(128),\n",
    "            CustomReLU(),\n",
    "            nn.Conv2d(128, 128, kernel_size=3, padding=1),\n",
    "            CustomBatchNorm2d(128),\n",
    "            CustomReLU(),\n",
    "            CustomMaxPooling2d(kernel_size=2, stride=2),\n",
    "            \n",
    "            # Block 3\n",
    "            nn.Conv2d(128, 256, kernel_size=3, padding=1),\n",
    "            CustomBatchNorm2d(256),\n",
    "            CustomReLU(),\n",
    "            nn.Conv2d(256, 256, kernel_size=3, padding=1),\n",
    "            CustomBatchNorm2d(256),\n",
    "            CustomReLU(),\n",
    "            nn.Conv2d(256, 256, kernel_size=3, padding=1),\n",
    "            CustomBatchNorm2d(256),\n",
    "            CustomReLU(),\n",
    "            CustomMaxPooling2d(kernel_size=2, stride=2)\n",
    "        )\n",
    "        \n",
    "        # Fully connected layers\n",
    "        self.classifier = nn.Sequential(\n",
    "            nn.Flatten(),\n",
    "            CustomDropout(p=0.5,is_input_layer=True),\n",
    "            nn.Linear(256 * 3 * 3, 4096),\n",
    "            CustomReLU(),\n",
    "            CustomDropout(p=0.5),\n",
    "            nn.Linear(4096, 4096),\n",
    "            CustomReLU(),\n",
    "            CustomDropout(p=0.5),\n",
    "            nn.Linear(4096, num_classes),\n",
    "        )\n",
    "\n",
    "    def forward(self, x):\n",
    "        x = self.features(x)\n",
    "        x = self.classifier(x)\n",
    "        return x\n"
   ]
  },
  {
   "cell_type": "code",
   "execution_count": 9,
   "id": "6063d408",
   "metadata": {
    "execution": {
     "iopub.execute_input": "2025-02-28T08:40:14.294505Z",
     "iopub.status.busy": "2025-02-28T08:40:14.294309Z",
     "iopub.status.idle": "2025-02-28T08:40:14.300785Z",
     "shell.execute_reply": "2025-02-28T08:40:14.300161Z"
    },
    "id": "vB-u6IalRk4q",
    "papermill": {
     "duration": 0.016172,
     "end_time": "2025-02-28T08:40:14.301885",
     "exception": false,
     "start_time": "2025-02-28T08:40:14.285713",
     "status": "completed"
    },
    "tags": []
   },
   "outputs": [],
   "source": [
    "import torch\n",
    "\n",
    "def train_epoch(model, train_loader, criterion, optimizer, device):\n",
    "    \"\"\"\n",
    "    🛠️ Implements training loop for one epoch 🏋️‍♂️\n",
    "    \"\"\"\n",
    "    model.train()  # 📈 Switch to training mode\n",
    "    running_loss = 0.0  # 💰 Track the cumulative loss\n",
    "    correct = 0  # ✅ Correct predictions counter\n",
    "    total = 0  # 📊 Total samples counter\n",
    "\n",
    "    for batch_idx, (data, target) in enumerate(train_loader):  # 🔄 Loop through batches\n",
    "        data, target = data.to(device), target.to(device)\n",
    "        \n",
    "        optimizer.zero_grad()  # Reset gradients\n",
    "        \n",
    "        output = model(data)  # Forward pass\n",
    "        loss = criterion(output, target)  # Calculate loss\n",
    "        \n",
    "        loss.backward()  # Backward pass\n",
    "        optimizer.step()  # Update weights\n",
    "        \n",
    "        running_loss += loss.item()\n",
    "        \n",
    "        _, predicted = output.max(1)  # Get the index of the max log-probability\n",
    "        total += target.size(0)\n",
    "        correct += predicted.eq(target).sum().item()\n",
    "\n",
    "    # 📊 Return average loss and accuracy for the epoch\n",
    "    return running_loss / len(train_loader), 100. * correct / total\n",
    "\n",
    "def evaluate(model, test_loader, criterion, device):\n",
    "    \"\"\"\n",
    "    🧪 Implements evaluation loop 🔍\n",
    "    \"\"\"\n",
    "    model.eval()  # 🔕 Switch to evaluation mode (no gradients)\n",
    "    test_loss = 0  # 💰 Track cumulative test loss\n",
    "    correct = 0  # ✅ Correct predictions counter\n",
    "    total = 0  # 📊 Total samples counter\n",
    "\n",
    "    with torch.no_grad():  # 🚫 No gradient calculation for evaluation\n",
    "        for data, target in test_loader:\n",
    "            data, target = data.to(device), target.to(device)\n",
    "            \n",
    "            output = model(data)  # Forward pass\n",
    "            test_loss += criterion(output, target).item()  # Sum up batch loss\n",
    "            \n",
    "            _, predicted = output.max(1)  # Get the index of the max log-probability\n",
    "            total += target.size(0)\n",
    "            correct += predicted.eq(target).sum().item()\n",
    "\n",
    "    # 📊 Return average test loss and accuracy\n",
    "    return test_loss / len(test_loader), 100. * correct / total\n"
   ]
  },
  {
   "cell_type": "code",
   "execution_count": 10,
   "id": "93fc88f7",
   "metadata": {
    "execution": {
     "iopub.execute_input": "2025-02-28T08:40:14.319094Z",
     "iopub.status.busy": "2025-02-28T08:40:14.318875Z",
     "iopub.status.idle": "2025-02-28T08:48:08.191586Z",
     "shell.execute_reply": "2025-02-28T08:48:08.190581Z"
    },
    "id": "r9Tnydj-RpO5",
    "papermill": {
     "duration": 473.883078,
     "end_time": "2025-02-28T08:48:08.193225",
     "exception": false,
     "start_time": "2025-02-28T08:40:14.310147",
     "status": "completed"
    },
    "tags": []
   },
   "outputs": [
    {
     "name": "stderr",
     "output_type": "stream",
     "text": [
      "/usr/local/lib/python3.10/dist-packages/torch/optim/lr_scheduler.py:62: UserWarning: The verbose parameter is deprecated. Please use get_last_lr() to access the learning rate.\n",
      "  warnings.warn(\n"
     ]
    },
    {
     "name": "stdout",
     "output_type": "stream",
     "text": [
      "🌟 Epoch 1/10\n",
      "Epoch 1/10, Train Loss: 0.2305, Train Acc: 93.20%, Test Loss: 0.0544, Test Acc: 98.55%\n",
      "🌟 Epoch 2/10\n",
      "Epoch 2/10, Train Loss: 0.0792, Train Acc: 97.95%, Test Loss: 0.0359, Test Acc: 98.97%\n",
      "🌟 Epoch 3/10\n",
      "Epoch 3/10, Train Loss: 0.0593, Train Acc: 98.47%, Test Loss: 0.0429, Test Acc: 98.93%\n",
      "🌟 Epoch 4/10\n",
      "Epoch 4/10, Train Loss: 0.0546, Train Acc: 98.65%, Test Loss: 0.0328, Test Acc: 99.12%\n",
      "🌟 Epoch 5/10\n",
      "Epoch 5/10, Train Loss: 0.0415, Train Acc: 98.90%, Test Loss: 0.0324, Test Acc: 99.23%\n",
      "🌟 Epoch 6/10\n",
      "Epoch 6/10, Train Loss: 0.0406, Train Acc: 98.94%, Test Loss: 0.0311, Test Acc: 99.28%\n",
      "🌟 Epoch 7/10\n",
      "Epoch 7/10, Train Loss: 0.0330, Train Acc: 99.17%, Test Loss: 0.0274, Test Acc: 99.33%\n",
      "🌟 Epoch 8/10\n",
      "Epoch 8/10, Train Loss: 0.0308, Train Acc: 99.27%, Test Loss: 0.0298, Test Acc: 99.28%\n",
      "🌟 Epoch 9/10\n",
      "Epoch 9/10, Train Loss: 0.0306, Train Acc: 99.25%, Test Loss: 0.0378, Test Acc: 99.02%\n",
      "🌟 Epoch 10/10\n",
      "Epoch 10/10, Train Loss: 0.0272, Train Acc: 99.34%, Test Loss: 0.0283, Test Acc: 99.30%\n"
     ]
    },
    {
     "data": {
      "image/png": "[encoded data removed]",
      "text/plain": [
       "<Figure size 1200x500 with 2 Axes>"
      ]
     },
     "metadata": {},
     "output_type": "display_data"
    }
   ],
   "source": [
    "import torch.optim.lr_scheduler as lr_scheduler\n",
    "\n",
    "def main():\n",
    "    # ⚙️ **Hyperparameters**\n",
    "    BATCH_SIZE = 64  # 📦 Batch size for data loading\n",
    "    EPOCHS = 10  # 🔄 Number of training epochs\n",
    "    LEARNING_RATE = 0.001  # 🚀 Learning rate for optimizer\n",
    "    DEVICE = torch.device('cuda' if torch.cuda.is_available() else 'cpu')  # ⚡ Use GPU if available\n",
    "\n",
    "    # 📊 **Load data**\n",
    "    train_loader, test_loader = load_mnist_data(BATCH_SIZE)\n",
    "\n",
    "    # 🛠️ **Initialize model, criterion, optimizer**\n",
    "    model = CustomVGG16().to(DEVICE)  # 🖥️ Move model to the selected device\n",
    "    criterion = nn.CrossEntropyLoss()  # 🎯 Loss function for classification\n",
    "    optimizer = optim.Adam(model.parameters(), lr=LEARNING_RATE)  # 🚀 Adam optimizer for better convergence\n",
    "    scheduler = lr_scheduler.ReduceLROnPlateau(optimizer, mode='min', factor=0.1, patience=3, verbose=True)\n",
    "\n",
    "    # 🔄 **Training loop**\n",
    "    train_losses = []  # 📉 Track training losses\n",
    "    test_losses = []  # 📉 Track test losses\n",
    "    train_accs = []  # 📊 Track training accuracy\n",
    "    test_accs = []  # 📊 Track test accuracy\n",
    "\n",
    "    for epoch in range(EPOCHS):\n",
    "        # 🏋️♂️ **TODO: Implement main training loop**\n",
    "        print(f\"🌟 Epoch {epoch+1}/{EPOCHS}\")  # 🕒 Display current epoch\n",
    "        # Example Steps:\n",
    "        # 1️⃣ Train for one epoch\n",
    "        train_loss, train_acc = train_epoch(model, train_loader, criterion, optimizer, DEVICE)\n",
    "       \n",
    "        # 2️⃣ Evaluate on test set\n",
    "        test_loss, test_acc = evaluate(model, test_loader, criterion, DEVICE)\n",
    "        scheduler.step(test_loss)\n",
    "        # 3️⃣ Record losses and accuracies\n",
    "        train_losses.append(train_loss)\n",
    "        test_losses.append(test_loss)\n",
    "        train_accs.append(train_acc)\n",
    "        test_accs.append(test_acc)\n",
    "\n",
    "        # 4️⃣ Print progress 💬\n",
    "        print(f\"Epoch {epoch+1}/{EPOCHS}, Train Loss: {train_loss:.4f}, Train Acc: {train_acc:.2f}%, Test Loss: {test_loss:.4f}, Test Acc: {test_acc:.2f}%\")\n",
    "\n",
    "    # 📈 **Plot results**\n",
    "    plt.figure(figsize=(12, 5))\n",
    "    plt.subplot(1, 2, 1)\n",
    "    plt.plot(train_losses, label='Train Loss')\n",
    "    plt.plot(test_losses, label='Test Loss')\n",
    "    plt.xlabel('Epoch')\n",
    "    plt.ylabel('Loss')\n",
    "    plt.title('Training and Test Loss')\n",
    "    plt.legend()\n",
    "\n",
    "    plt.subplot(1, 2, 2)\n",
    "    plt.plot(train_accs, label='Train Accuracy')\n",
    "    plt.plot(test_accs, label='Test Accuracy')\n",
    "    plt.xlabel('Epoch')\n",
    "    plt.ylabel('Accuracy (%)')\n",
    "    plt.title('Training and Test Accuracy')\n",
    "    plt.legend()\n",
    "\n",
    "    plt.show()  # 🎨 Generate and display plots 📊\n",
    "\n",
    "if __name__ == \"__main__\":\n",
    "    main()"
   ]
  },
  {
   "cell_type": "code",
   "execution_count": null,
   "id": "81edbf16",
   "metadata": {
    "papermill": {
     "duration": 0.009829,
     "end_time": "2025-02-28T08:48:08.213868",
     "exception": false,
     "start_time": "2025-02-28T08:48:08.204039",
     "status": "completed"
    },
    "tags": []
   },
   "outputs": [],
   "source": []
  },
  {
   "cell_type": "code",
   "execution_count": null,
   "id": "924f9a0b",
   "metadata": {
    "papermill": {
     "duration": 0.009775,
     "end_time": "2025-02-28T08:48:08.233514",
     "exception": false,
     "start_time": "2025-02-28T08:48:08.223739",
     "status": "completed"
    },
    "tags": []
   },
   "outputs": [],
   "source": []
  },
  {
   "cell_type": "code",
   "execution_count": null,
   "id": "0e9ec595",
   "metadata": {
    "papermill": {
     "duration": 0.009897,
     "end_time": "2025-02-28T08:48:08.253346",
     "exception": false,
     "start_time": "2025-02-28T08:48:08.243449",
     "status": "completed"
    },
    "tags": []
   },
   "outputs": [],
   "source": []
  },
  {
   "cell_type": "code",
   "execution_count": null,
   "id": "9a1ee51e",
   "metadata": {
    "papermill": {
     "duration": 0.009779,
     "end_time": "2025-02-28T08:48:08.272955",
     "exception": false,
     "start_time": "2025-02-28T08:48:08.263176",
     "status": "completed"
    },
    "tags": []
   },
   "outputs": [],
   "source": []
  },
  {
   "cell_type": "code",
   "execution_count": null,
   "id": "9ecbdd4d",
   "metadata": {
    "papermill": {
     "duration": 0.00986,
     "end_time": "2025-02-28T08:48:08.292714",
     "exception": false,
     "start_time": "2025-02-28T08:48:08.282854",
     "status": "completed"
    },
    "tags": []
   },
   "outputs": [],
   "source": []
  },
  {
   "cell_type": "code",
   "execution_count": null,
   "id": "d0814f73",
   "metadata": {
    "papermill": {
     "duration": 0.009738,
     "end_time": "2025-02-28T08:48:08.312444",
     "exception": false,
     "start_time": "2025-02-28T08:48:08.302706",
     "status": "completed"
    },
    "tags": []
   },
   "outputs": [],
   "source": []
  },
  {
   "cell_type": "code",
   "execution_count": null,
   "id": "55f87421",
   "metadata": {
    "papermill": {
     "duration": 0.009753,
     "end_time": "2025-02-28T08:48:08.332224",
     "exception": false,
     "start_time": "2025-02-28T08:48:08.322471",
     "status": "completed"
    },
    "tags": []
   },
   "outputs": [],
   "source": []
  },
  {
   "cell_type": "code",
   "execution_count": null,
   "id": "5d11970e",
   "metadata": {
    "papermill": {
     "duration": 0.009764,
     "end_time": "2025-02-28T08:48:08.352094",
     "exception": false,
     "start_time": "2025-02-28T08:48:08.342330",
     "status": "completed"
    },
    "tags": []
   },
   "outputs": [],
   "source": []
  },
  {
   "cell_type": "code",
   "execution_count": null,
   "id": "e3d0c5b2",
   "metadata": {
    "papermill": {
     "duration": 0.009719,
     "end_time": "2025-02-28T08:48:08.371680",
     "exception": false,
     "start_time": "2025-02-28T08:48:08.361961",
     "status": "completed"
    },
    "tags": []
   },
   "outputs": [],
   "source": []
  },
  {
   "cell_type": "code",
   "execution_count": null,
   "id": "397009ad",
   "metadata": {
    "papermill": {
     "duration": 0.011326,
     "end_time": "2025-02-28T08:48:08.392876",
     "exception": false,
     "start_time": "2025-02-28T08:48:08.381550",
     "status": "completed"
    },
    "tags": []
   },
   "outputs": [],
   "source": []
  },
  {
   "cell_type": "code",
   "execution_count": null,
   "id": "b8a23744",
   "metadata": {
    "papermill": {
     "duration": 0.009767,
     "end_time": "2025-02-28T08:48:08.414102",
     "exception": false,
     "start_time": "2025-02-28T08:48:08.404335",
     "status": "completed"
    },
    "tags": []
   },
   "outputs": [],
   "source": []
  },
  {
   "cell_type": "code",
   "execution_count": null,
   "id": "0d187b9b",
   "metadata": {
    "papermill": {
     "duration": 0.009865,
     "end_time": "2025-02-28T08:48:08.433925",
     "exception": false,
     "start_time": "2025-02-28T08:48:08.424060",
     "status": "completed"
    },
    "tags": []
   },
   "outputs": [],
   "source": []
  },
  {
   "cell_type": "code",
   "execution_count": null,
   "id": "81594429",
   "metadata": {
    "papermill": {
     "duration": 0.009862,
     "end_time": "2025-02-28T08:48:08.453750",
     "exception": false,
     "start_time": "2025-02-28T08:48:08.443888",
     "status": "completed"
    },
    "tags": []
   },
   "outputs": [],
   "source": []
  },
  {
   "cell_type": "code",
   "execution_count": null,
   "id": "ac21ad22",
   "metadata": {
    "papermill": {
     "duration": 0.009643,
     "end_time": "2025-02-28T08:48:08.473311",
     "exception": false,
     "start_time": "2025-02-28T08:48:08.463668",
     "status": "completed"
    },
    "tags": []
   },
   "outputs": [],
   "source": []
  },
  {
   "cell_type": "code",
   "execution_count": null,
   "id": "aab7d346",
   "metadata": {
    "papermill": {
     "duration": 0.009602,
     "end_time": "2025-02-28T08:48:08.492641",
     "exception": false,
     "start_time": "2025-02-28T08:48:08.483039",
     "status": "completed"
    },
    "tags": []
   },
   "outputs": [],
   "source": []
  },
  {
   "cell_type": "code",
   "execution_count": null,
   "id": "4ba7c5ef",
   "metadata": {
    "papermill": {
     "duration": 0.009675,
     "end_time": "2025-02-28T08:48:08.512384",
     "exception": false,
     "start_time": "2025-02-28T08:48:08.502709",
     "status": "completed"
    },
    "tags": []
   },
   "outputs": [],
   "source": []
  }
 ],
 "metadata": {
  "colab": {
   "provenance": []
  },
  "kaggle": {
   "accelerator": "nvidiaTeslaT4",
   "dataSources": [],
   "dockerImageVersionId": 30919,
   "isGpuEnabled": true,
   "isInternetEnabled": true,
   "language": "python",
   "sourceType": "notebook"
  },
  "kernelspec": {
   "display_name": "Python 3",
   "language": "python",
   "name": "python3"
  },
  "language_info": {
   "codemirror_mode": {
    "name": "ipython",
    "version": 3
   },
   "file_extension": ".py",
   "mimetype": "text/x-python",
   "name": "python",
   "nbconvert_exporter": "python",
   "pygments_lexer": "ipython3",
   "version": "3.10.12"
  },
  "papermill": {
   "default_parameters": {},
   "duration": 505.496627,
   "end_time": "2025-02-28T08:48:10.143715",
   "environment_variables": {},
   "exception": null,
   "input_path": "__notebook__.ipynb",
   "output_path": "__notebook__.ipynb",
   "parameters": {},
   "start_time": "2025-02-28T08:39:44.647088",
   "version": "2.6.0"
  }
 },
 "nbformat": 4,
 "nbformat_minor": 5
}
